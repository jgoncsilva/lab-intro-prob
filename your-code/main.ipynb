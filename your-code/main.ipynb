{
 "cells": [
  {
   "cell_type": "markdown",
   "metadata": {},
   "source": [
    "# Introduction To Probability\n",
    "## Challenge 1\n",
    "\n",
    "A and B are events of a probability space with $(\\omega, \\sigma, P)$ such that $P(A) = 0.3$, $P(B) = 0.6$ and $P(A \\cap B) = 0.1$\n",
    "\n",
    "Which of the following statements are false?\n",
    "* $P(A \\cup B) = 0.6$ #Wrong -0.8\n",
    "* $P(A \\cap B^{C}) = 0.2$   #Correct \n",
    "* $P(A \\cap (B \\cup B^{C})) = 0.4$  #Wrong - 0.3\n",
    "* $P(A^{C} \\cap B^{C}) = 0.3$ #Wrong  - 0.2\n",
    "* $P((A \\cap B)^{C}) = 0.9$ #Right "
   ]
  },
  {
   "cell_type": "code",
   "execution_count": 21,
   "metadata": {},
   "outputs": [
    {
     "data": {
      "text/plain": [
       "0.48"
      ]
     },
     "execution_count": 21,
     "metadata": {},
     "output_type": "execute_result"
    }
   ],
   "source": [
    "\"\"\"\n",
    "your solution here\n",
    "Answer above \n",
    "\n",
    "\"\"\" \n"
   ]
  },
  {
   "cell_type": "markdown",
   "metadata": {},
   "source": [
    "## Challenge 2\n",
    "There is a box with 10 white balls, 12 red balls and 8 black balls. Calculate the probability of:\n",
    "* Taking a white ball out.\n",
    "* Taking a white ball out after taking a black ball out.\n",
    "* Taking a red ball out after taking a black and a red ball out.\n",
    "* Taking a red ball out after taking a black and a red ball out with reposition.\n",
    "\n",
    "**Hint**: Reposition means putting back the ball into the box after taking it out."
   ]
  },
  {
   "cell_type": "code",
   "execution_count": 1,
   "metadata": {},
   "outputs": [
    {
     "data": {
      "text/plain": [
       "'\\nyour solution here\\n10/30 = 1/3\\n8/30 x 10/29 = \\n'"
      ]
     },
     "execution_count": 1,
     "metadata": {},
     "output_type": "execute_result"
    }
   ],
   "source": [
    "\"\"\"\n",
    "your solution here\n",
    "10/30 = 1/3 = 0.04\n",
    "8/30 x 10/29 = 0.09\n",
    "8/30 x 12/29 x 11/28 = 0.04\n",
    "8/30 * 12/30 * 12/30 = 0.043\n",
    "\"\"\""
   ]
  },
  {
   "cell_type": "code",
   "execution_count": 8,
   "metadata": {},
   "outputs": [
    {
     "data": {
      "text/plain": [
       "0.125"
      ]
     },
     "execution_count": 8,
     "metadata": {},
     "output_type": "execute_result"
    }
   ],
   "source": [
    "0.5*0.1/0.4"
   ]
  },
  {
   "cell_type": "markdown",
   "metadata": {},
   "source": [
    "## Challenge 3\n",
    "\n",
    "You are planning to go on a picnic today but the morning is cloudy. You hate rain so you don't know whether to go out or stay home! To help you make a decision, you gather the following data about rainy days:\n",
    "\n",
    "* Knowing that it is a rainy day, the probability of cloudy is 50%!\n",
    "* The probability of any day (rainy or not) starting off cloudy is 40%. \n",
    "* This month is usually dry so only 3 of 30 days (10%) tend to be rainy. \n",
    "\n",
    "What is the probability of rain, given the day started cloudy?"
   ]
  },
  {
   "cell_type": "code",
   "execution_count": 9,
   "metadata": {},
   "outputs": [
    {
     "data": {
      "text/plain": [
       "'\\nyour solution here\\nRainy day - Cloudy = 0.5\\nDay = 0.4\\nMonth = 3/30 = 0.1 (10%)\\n\\n0.5*0.1/0.4 = 0.125\\nThe proability of rainy day\\n'"
      ]
     },
     "execution_count": 9,
     "metadata": {},
     "output_type": "execute_result"
    }
   ],
   "source": [
    "\"\"\"\n",
    "your solution here\n",
    "Rainy day - Cloudy = 0.5\n",
    "Day = 0.4\n",
    "Month = 3/30 = 0.1 (10%)\n",
    "\n",
    "0.5*0.1/0.4 = 0.125\n",
    "The proability of rainy day\n",
    "\"\"\""
   ]
  },
  {
   "cell_type": "code",
   "execution_count": 14,
   "metadata": {},
   "outputs": [
    {
     "data": {
      "text/plain": [
       "0.125"
      ]
     },
     "execution_count": 14,
     "metadata": {},
     "output_type": "execute_result"
    }
   ],
   "source": [
    "#### P(Rain | Cloudy )= ?\n",
    "\n",
    "# P(Cloudy | Rain ) = 0.5\n",
    "# P(Cloudy) = 0.4\n",
    "# P(Rain) = 0.1\n",
    "\n",
    "# Teorema de Bays -----> P(A | B) = P(B | A) * P(A)\n",
    "#                                  ---------------\n",
    "#                                        P(B)\n",
    "#                      P(rain | Cloudy) = P(Cloudy | Rain) * P(Rain) / P(Cloudy)\n",
    "#0.5 * 0.1 / 0.4 = 0.125"
   ]
  },
  {
   "cell_type": "markdown",
   "metadata": {},
   "source": [
    "## Challenge 4\n",
    "\n",
    "One thousand people were asked through a telephone survey whether they thought more street lighting is needed at night or not.\n",
    "\n",
    "Out of the 480 men that answered the survey, 324 said yes and 156 said no. On the other hand, out of the 520 women that answered, 351 said yes and 169 said no. \n",
    "\n",
    "We wonder if men and women have a different opinions about the street lighting matter. Is gender relevant or irrelevant to the question?\n",
    "\n",
    "Consider the following events:\n",
    "- The answer is yes, so the person that answered thinks that more street lighting is needed.\n",
    "- The person who answered is a man.\n",
    "\n",
    "We want to know if these events are independent, that is, if the fact of wanting more light depends on whether one is male or female. Are these events independent or not?\n",
    "\n",
    "**Hint**: To clearly compare the answers by gender, it is best to place the data in a table."
   ]
  },
  {
   "cell_type": "code",
   "execution_count": 15,
   "metadata": {},
   "outputs": [
    {
     "data": {
      "text/plain": [
       "325"
      ]
     },
     "execution_count": 15,
     "metadata": {},
     "output_type": "execute_result"
    }
   ],
   "source": [
    "# your code here\n",
    "#Male = 480 \n",
    "#Male (yes) = 324 \n",
    "#Male (no) = 156\n",
    "#Female  = 520 \n",
    "#Female(yes) = 351 \n",
    "#Female(no) = 169 \n",
    "\n",
    "#Total yes = 675 \n",
    "#Total No = 325\n",
    "#Total Survey (Man + Woman) = 1000\n"
   ]
  },
  {
   "cell_type": "code",
   "execution_count": 26,
   "metadata": {},
   "outputs": [
    {
     "data": {
      "text/plain": [
       "'\\nyour solution here\\nP(A∩B)/P(B) = P(A)\\nP(Male ∩ Yes)/ P(Yes) = P(Male)\\n0.324 / 0.675 = 0.480\\nP(Female  ∩ No)/P(No) = P(Female)\\n0.169 / 0.325 = 0.520 \\n'"
      ]
     },
     "execution_count": 26,
     "metadata": {},
     "output_type": "execute_result"
    }
   ],
   "source": [
    "\"\"\"\n",
    "your solution here\n",
    "P(A∩B)/P(B) = P(A)\n",
    "P(Male ∩ Yes)/ P(Yes) = P(Male)\n",
    "0.324 / 0.675 = 0.480\n",
    "P(Female  ∩ No)/P(No) = P(Female)\n",
    "0.169 / 0.325 = 0.520 \n",
    "\"\"\"\n",
    "# Have the same Opinion,  they answerr do not about be man or woman, the events are independent.\n"
   ]
  },
  {
   "cell_type": "code",
   "execution_count": null,
   "metadata": {},
   "outputs": [],
   "source": []
  }
 ],
 "metadata": {
  "kernelspec": {
   "display_name": "Python 3",
   "language": "python",
   "name": "python3"
  },
  "language_info": {
   "codemirror_mode": {
    "name": "ipython",
    "version": 3
   },
   "file_extension": ".py",
   "mimetype": "text/x-python",
   "name": "python",
   "nbconvert_exporter": "python",
   "pygments_lexer": "ipython3",
   "version": "3.7.6"
  }
 },
 "nbformat": 4,
 "nbformat_minor": 2
}
